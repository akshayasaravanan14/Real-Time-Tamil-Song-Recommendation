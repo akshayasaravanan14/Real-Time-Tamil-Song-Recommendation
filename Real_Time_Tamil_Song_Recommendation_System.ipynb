{
  "nbformat": 4,
  "nbformat_minor": 0,
  "metadata": {
    "colab": {
      "provenance": []
    },
    "kernelspec": {
      "name": "python3",
      "display_name": "Python 3"
    },
    "language_info": {
      "name": "python"
    }
  },
  "cells": [
    {
      "cell_type": "code",
      "execution_count": 1,
      "metadata": {
        "colab": {
          "base_uri": "https://localhost:8080/"
        },
        "id": "9Q086Kt1ksQu",
        "outputId": "cf4972a6-5f2f-4191-9924-36f5b3c65fb7"
      },
      "outputs": [
        {
          "output_type": "stream",
          "name": "stdout",
          "text": [
            "Access token obtained successfully.\n"
          ]
        }
      ],
      "source": [
        "import requests\n",
        "import base64\n",
        "\n",
        "# Replace with your own Client ID and Client Secret\n",
        "CLIENT_ID = '2b03b0d1e29b48f48ac266ad0a85d505'\n",
        "CLIENT_SECRET = '79aefa91afc841fbb1726f4d6dbba454'\n",
        "\n",
        "# Base64 encode the client ID and client secret\n",
        "client_credentials = f\"{CLIENT_ID}:{CLIENT_SECRET}\"\n",
        "client_credentials_base64 = base64.b64encode(client_credentials.encode())\n",
        "\n",
        "# Request the access token\n",
        "token_url = 'https://accounts.spotify.com/api/token'\n",
        "headers = {\n",
        "    'Authorization': f'Basic {client_credentials_base64.decode()}'\n",
        "}\n",
        "data = {\n",
        "    'grant_type': 'client_credentials'\n",
        "}\n",
        "response = requests.post(token_url, data=data, headers=headers)\n",
        "\n",
        "if response.status_code == 200:\n",
        "    access_token = response.json()['access_token']\n",
        "    print(\"Access token obtained successfully.\")\n",
        "else:\n",
        "    print(\"Error obtaining access token.\")\n",
        "    exit()"
      ]
    },
    {
      "cell_type": "code",
      "source": [
        "pip install spotipy"
      ],
      "metadata": {
        "colab": {
          "base_uri": "https://localhost:8080/"
        },
        "id": "LAAqo8hsk7DZ",
        "outputId": "f544549a-46be-46d2-9953-9e1bb7ac27aa"
      },
      "execution_count": 2,
      "outputs": [
        {
          "output_type": "stream",
          "name": "stdout",
          "text": [
            "Collecting spotipy\n",
            "  Downloading spotipy-2.23.0-py3-none-any.whl (29 kB)\n",
            "Collecting redis>=3.5.3 (from spotipy)\n",
            "  Downloading redis-5.0.4-py3-none-any.whl (251 kB)\n",
            "\u001b[2K     \u001b[90m━━━━━━━━━━━━━━━━━━━━━━━━━━━━━━━━━━━━━━━━\u001b[0m \u001b[32m252.0/252.0 kB\u001b[0m \u001b[31m7.6 MB/s\u001b[0m eta \u001b[36m0:00:00\u001b[0m\n",
            "\u001b[?25hRequirement already satisfied: requests>=2.25.0 in /usr/local/lib/python3.10/dist-packages (from spotipy) (2.31.0)\n",
            "Requirement already satisfied: six>=1.15.0 in /usr/local/lib/python3.10/dist-packages (from spotipy) (1.16.0)\n",
            "Requirement already satisfied: urllib3>=1.26.0 in /usr/local/lib/python3.10/dist-packages (from spotipy) (2.0.7)\n",
            "Requirement already satisfied: async-timeout>=4.0.3 in /usr/local/lib/python3.10/dist-packages (from redis>=3.5.3->spotipy) (4.0.3)\n",
            "Requirement already satisfied: charset-normalizer<4,>=2 in /usr/local/lib/python3.10/dist-packages (from requests>=2.25.0->spotipy) (3.3.2)\n",
            "Requirement already satisfied: idna<4,>=2.5 in /usr/local/lib/python3.10/dist-packages (from requests>=2.25.0->spotipy) (3.7)\n",
            "Requirement already satisfied: certifi>=2017.4.17 in /usr/local/lib/python3.10/dist-packages (from requests>=2.25.0->spotipy) (2024.2.2)\n",
            "Installing collected packages: redis, spotipy\n",
            "Successfully installed redis-5.0.4 spotipy-2.23.0\n"
          ]
        }
      ]
    },
    {
      "cell_type": "code",
      "source": [
        "def get_trending_playlist_data(playlist_id, access_token):\n",
        "    \"\"\"\n",
        "    Fetches data for tracks in a given playlist using Spotify's API.\n",
        "\n",
        "    Args:\n",
        "        playlist_id (str): The ID of the playlist.\n",
        "        access_token (str): The access token for authenticating with Spotify's API.\n",
        "\n",
        "    Returns:\n",
        "        pandas.DataFrame: DataFrame containing information about the tracks in the playlist.\n",
        "    \"\"\"\n",
        "    try:\n",
        "        # Set up Spotipy with the access token\n",
        "        sp = spotipy.Spotify(auth=access_token)\n",
        "\n",
        "        # Get the tracks from the playlist\n",
        "        playlist_tracks = sp.playlist_tracks(playlist_id, fields='items(track(id, name, artists, album(id, name)))')['items']\n",
        "\n",
        "        # Extract relevant information and store in a list of dictionaries\n",
        "        music_data = []\n",
        "        for track_info in playlist_tracks:\n",
        "            track = track_info['track']\n",
        "            track_name = track['name']\n",
        "            artists = ', '.join([artist['name'] for artist in track['artists']])\n",
        "            album_name = track['album']['name']\n",
        "            album_id = track['album']['id']\n",
        "            track_id = track['id']\n",
        "\n",
        "            # Get audio features for the track\n",
        "            audio_features = sp.audio_features(track_id)[0] if track_id else None\n",
        "\n",
        "            # Get release date of the album\n",
        "            release_date = sp.album(album_id)['release_date'] if album_id else None\n",
        "\n",
        "            # Get popularity of the track\n",
        "            popularity = sp.track(track_id)['popularity'] if track_id else None\n",
        "\n",
        "            # Add additional track information to the track data\n",
        "            track_data = {\n",
        "                'Track Name': track_name,\n",
        "                'Artists': artists,\n",
        "                'Album Name': album_name,\n",
        "                'Album ID': album_id,\n",
        "                'Track ID': track_id,\n",
        "                'Popularity': popularity,\n",
        "                'Release Date': release_date,\n",
        "                'Duration (ms)': audio_features['duration_ms'] if audio_features else None,\n",
        "                'Explicit': sp.track(track_id).get('explicit', None),\n",
        "                'External URLs': sp.track(track_id).get('external_urls', {}).get('spotify', None),\n",
        "                'Danceability': audio_features['danceability'] if audio_features else None,\n",
        "                'Energy': audio_features['energy'] if audio_features else None,\n",
        "                'Key': audio_features['key'] if audio_features else None,\n",
        "                'Loudness': audio_features['loudness'] if audio_features else None,\n",
        "                'Mode': audio_features['mode'] if audio_features else None,\n",
        "                'Speechiness': audio_features['speechiness'] if audio_features else None,\n",
        "                'Acousticness': audio_features['acousticness'] if audio_features else None,\n",
        "                'Instrumentalness': audio_features['instrumentalness'] if audio_features else None,\n",
        "                'Liveness': audio_features['liveness'] if audio_features else None,\n",
        "                'Valence': audio_features['valence'] if audio_features else None,\n",
        "                'Tempo': audio_features['tempo'] if audio_features else None,\n",
        "                # Add more attributes as needed\n",
        "            }\n",
        "\n",
        "            music_data.append(track_data)\n",
        "\n",
        "        # Create a pandas DataFrame from the list of dictionaries\n",
        "        df = pd.DataFrame(music_data)\n",
        "\n",
        "        return df\n",
        "\n",
        "    except Exception as e:\n",
        "        print(f\"An error occurred: {str(e)}\")\n",
        "        return None\n"
      ],
      "metadata": {
        "id": "_CXbbksWlKaY"
      },
      "execution_count": 5,
      "outputs": []
    },
    {
      "cell_type": "code",
      "source": [
        "playlist_id = 'https://open.spotify.com/playlist/37i9dQZF1DWWOp144dTCQd?si=f7c14d13d38f42d5'\n",
        "\n",
        "# Call the function to get the music data from the playlist and store it in a DataFrame\n",
        "music_df = get_trending_playlist_data(playlist_id, access_token)\n",
        "\n",
        "# Display the DataFrame\n",
        "print(music_df)"
      ],
      "metadata": {
        "colab": {
          "base_uri": "https://localhost:8080/"
        },
        "id": "q5442tmMlh3i",
        "outputId": "f6ffd8a4-cbe5-458e-f9d5-7af2da4b0979"
      },
      "execution_count": 28,
      "outputs": [
        {
          "output_type": "stream",
          "name": "stdout",
          "text": [
            "                   Track Name  \\\n",
            "0                  Valaiyosai   \n",
            "1             Sangeetha Megam   \n",
            "2    Malaiyoram Veesum Kaathu   \n",
            "3            Sorgame Endralum   \n",
            "4       Thenpandi Thamizhe En   \n",
            "..                        ...   \n",
            "95            Madai Thiranthu   \n",
            "96  Andhi Mazhai Pozhikaruthu   \n",
            "97          Ithu Oru Ponmalai   \n",
            "98       En Jodi Manja Kuruvi   \n",
            "99            Thendral Vandhu   \n",
            "\n",
            "                                              Artists  \\\n",
            "0   Ilaiyaraaja, S. P. Balasubrahmanyam, Lata Mang...   \n",
            "1                              S. P. Balasubrahmanyam   \n",
            "2                              S. P. Balasubrahmanyam   \n",
            "3                              Ilaiyaraaja, S. Janaki   \n",
            "4                        K. J. Yesudas, K. S. Chithra   \n",
            "..                                                ...   \n",
            "95                             S. P. Balasubrahmanyam   \n",
            "96                  S. P. Balasubrahmanyam, S. Janaki   \n",
            "97                             S. P. Balasubrahmanyam   \n",
            "98  S. P. Balasubrahmanyam, S. P. Sailaja, K. S. C...   \n",
            "99                           K. J. Yesudas, S. Janaki   \n",
            "\n",
            "                                           Album Name                Album ID  \\\n",
            "0         Sathya (Original Motion Picture Soundtrack)  7iQLsF4WwGor22HmCa3xXC   \n",
            "1   Udaya Geetham (Original Motion Picture Soundtr...  4xDXrRj6QouAE7KFHM8gcu   \n",
            "2   Paadu Nilave (Original Motion Picture Soundtrack)  02XkaE4qv3Oql49DJjnxS5   \n",
            "3   Ooru Vittu Ooru Vandhu (Original Motion Pictur...  0B6bu92iR3prD75wRRz9yv   \n",
            "4   Paasa Paravaigal (Original Motion Picture Soun...  2plKauhHM3mHQHnHjdb2jd   \n",
            "..                                                ...                     ...   \n",
            "95                                          Nizhalgal  3HqPbW7AiRW63mqPHKOmyk   \n",
            "96                                      Raaja Paarvai  2xQ3JJc4DXJ5lyQMGJQ5Cz   \n",
            "97                                          Nizhalgal  3HqPbW7AiRW63mqPHKOmyk   \n",
            "98        Vikram (Original Motion Picture Soundtrack)  2e0ISrWjj9fJZnAKV6S0o5   \n",
            "99  Thendrale Ennai Thodu (Original Motion Picture...  15dXzWQdcTG7VDEkAuod49   \n",
            "\n",
            "                  Track ID  Popularity Release Date  Duration (ms)  Explicit  \\\n",
            "0   2RZtx21gOL0GwRxd23T3S6          58   1988-01-01         274500     False   \n",
            "1   2YvRO5uZSMxkyIXHqNIkeR          55   1984-12-30         269689     False   \n",
            "2   5D4Xdsc7wXUxm8GBJN8XM5          53         1987         275920     False   \n",
            "3   0ggtoVGwW9HerJzpnjV100          50   1990-01-01         291500     False   \n",
            "4   0knRZ3jBjE07F5rozTFcdb          47         1988         281391     False   \n",
            "..                     ...         ...          ...            ...       ...   \n",
            "95  7c7RqvQKK7MbmaSqGu2d1o          46   2005-06-30         261355     False   \n",
            "96  5TO6LCBoFMe1FyQrZDMGRL          46   1981-04-10         275227     False   \n",
            "97  1Lx4k8zay8JjyN7Ew2u4wG          45   2005-06-30         258907     False   \n",
            "98  7qSlnKZUcdGjNDNjpsOyYs          45   1986-05-29         339773     False   \n",
            "99  6p439oPPofOGKkpaC2tlE6          45   1984-12-30         256480     False   \n",
            "\n",
            "                                        External URLs  ...  Energy  Key  \\\n",
            "0   https://open.spotify.com/track/2RZtx21gOL0GwRx...  ...   0.404    9   \n",
            "1   https://open.spotify.com/track/2YvRO5uZSMxkyIX...  ...   0.536    5   \n",
            "2   https://open.spotify.com/track/5D4Xdsc7wXUxm8G...  ...   0.259    1   \n",
            "3   https://open.spotify.com/track/0ggtoVGwW9HerJz...  ...   0.737    9   \n",
            "4   https://open.spotify.com/track/0knRZ3jBjE07F5r...  ...   0.379    7   \n",
            "..                                                ...  ...     ...  ...   \n",
            "95  https://open.spotify.com/track/7c7RqvQKK7MbmaS...  ...   0.433    7   \n",
            "96  https://open.spotify.com/track/5TO6LCBoFMe1FyQ...  ...   0.502    9   \n",
            "97  https://open.spotify.com/track/1Lx4k8zay8JjyN7...  ...   0.436    8   \n",
            "98  https://open.spotify.com/track/7qSlnKZUcdGjNDN...  ...   0.462    9   \n",
            "99  https://open.spotify.com/track/6p439oPPofOGKkp...  ...   0.443    9   \n",
            "\n",
            "    Loudness  Mode  Speechiness  Acousticness  Instrumentalness  Liveness  \\\n",
            "0    -12.190     0       0.0520         0.923          0.530000    0.2060   \n",
            "1     -9.109     1       0.0363         0.628          0.000000    0.1040   \n",
            "2    -10.532     0       0.0331         0.885          0.000010    0.0952   \n",
            "3     -5.026     1       0.0327         0.788          0.073700    0.2830   \n",
            "4    -10.098     0       0.0371         0.863          0.000097    0.1470   \n",
            "..       ...   ...          ...           ...               ...       ...   \n",
            "95   -13.612     0       0.0717         0.844          0.000005    0.3550   \n",
            "96    -7.334     1       0.0898         0.992          0.277000    0.0690   \n",
            "97    -9.306     0       0.0607         0.957          0.000259    0.0959   \n",
            "98   -12.034     0       0.1620         0.841          0.053900    0.1210   \n",
            "99   -11.898     1       0.0284         0.489          0.000127    0.0931   \n",
            "\n",
            "    Valence    Tempo  \n",
            "0     0.435  123.182  \n",
            "1     0.606   94.494  \n",
            "2     0.504   82.790  \n",
            "3     0.719  120.773  \n",
            "4     0.695   83.037  \n",
            "..      ...      ...  \n",
            "95    0.765   75.900  \n",
            "96    0.527   92.602  \n",
            "97    0.618  115.484  \n",
            "98    0.821  137.813  \n",
            "99    0.909  112.516  \n",
            "\n",
            "[100 rows x 21 columns]\n"
          ]
        }
      ]
    },
    {
      "cell_type": "code",
      "source": [
        "print(music_df.isnull().sum())"
      ],
      "metadata": {
        "colab": {
          "base_uri": "https://localhost:8080/"
        },
        "id": "-Q9mdJ73mKM5",
        "outputId": "65641ca1-3789-4898-a58b-1aa210c43d63"
      },
      "execution_count": 29,
      "outputs": [
        {
          "output_type": "stream",
          "name": "stdout",
          "text": [
            "Track Name          0\n",
            "Artists             0\n",
            "Album Name          0\n",
            "Album ID            0\n",
            "Track ID            0\n",
            "Popularity          0\n",
            "Release Date        0\n",
            "Duration (ms)       0\n",
            "Explicit            0\n",
            "External URLs       0\n",
            "Danceability        0\n",
            "Energy              0\n",
            "Key                 0\n",
            "Loudness            0\n",
            "Mode                0\n",
            "Speechiness         0\n",
            "Acousticness        0\n",
            "Instrumentalness    0\n",
            "Liveness            0\n",
            "Valence             0\n",
            "Tempo               0\n",
            "dtype: int64\n"
          ]
        }
      ]
    },
    {
      "cell_type": "code",
      "source": [
        "import pandas as pd\n",
        "import numpy as np\n",
        "from sklearn.model_selection import train_test_split\n",
        "from sklearn.preprocessing import MinMaxScaler\n",
        "from datetime import datetime\n",
        "from sklearn.metrics.pairwise import cosine_similarity\n",
        "\n",
        "data = music_df"
      ],
      "metadata": {
        "id": "paFHTwAxmo_Z"
      },
      "execution_count": 30,
      "outputs": []
    },
    {
      "cell_type": "code",
      "source": [
        " #Function to calculate weighted popularity scores based on release date\n",
        "def calculate_weighted_popularity(release_date):\n",
        "    # Convert the release date to datetime object\n",
        "    release_date = datetime.strptime(release_date, '%Y-%m-%d')\n",
        "\n",
        "    # Calculate the time span between release date and today's date\n",
        "    time_span = datetime.now() - release_date\n",
        "\n",
        "    # Calculate the weighted popularity score based on time span (e.g., more recent releases have higher weight)\n",
        "    weight = 1 / (time_span.days + 1)\n",
        "    return weight"
      ],
      "metadata": {
        "id": "ogzSlqDKmzH2"
      },
      "execution_count": 31,
      "outputs": []
    },
    {
      "cell_type": "code",
      "source": [
        "# Normalize the music features using Min-Max scaling\n",
        "scaler = MinMaxScaler()\n",
        "music_features = music_df[['Danceability', 'Energy', 'Key',\n",
        "                           'Loudness', 'Mode', 'Speechiness', 'Acousticness',\n",
        "                           'Instrumentalness', 'Liveness', 'Valence', 'Tempo']].values\n",
        "music_features_scaled = scaler.fit_transform(music_features)"
      ],
      "metadata": {
        "id": "JeTLgLUhm4ql"
      },
      "execution_count": 32,
      "outputs": []
    },
    {
      "cell_type": "code",
      "source": [
        "# a function to get content-based recommendations based on music features\n",
        "def content_based_recommendations(input_song_name, num_recommendations=5):\n",
        "    if input_song_name not in music_df['Track Name'].values:\n",
        "        print(f\"'{input_song_name}' not found in the dataset. Please enter a valid song name.\")\n",
        "        return\n",
        "\n",
        "    # Get the index of the input song in the music DataFrame\n",
        "    input_song_index = music_df[music_df['Track Name'] == input_song_name].index[0]\n",
        "\n",
        "    # Calculate the similarity scores based on music features (cosine similarity)\n",
        "    similarity_scores = cosine_similarity([music_features_scaled[input_song_index]], music_features_scaled)\n",
        "\n",
        "    # Get the indices of the most similar songs\n",
        "    similar_song_indices = similarity_scores.argsort()[0][::-1][1:num_recommendations + 1]\n",
        "\n",
        "    # Get the names of the most similar songs based on content-based filtering\n",
        "    content_based_recommendations = music_df.iloc[similar_song_indices][['Track Name', 'Artists', 'Album Name', 'Release Date', 'Popularity']]\n",
        "\n",
        "    return content_based_recommendations"
      ],
      "metadata": {
        "id": "ItA_u76snCl2"
      },
      "execution_count": 33,
      "outputs": []
    },
    {
      "cell_type": "code",
      "source": [
        "def hybrid_recommendations(input_song_name, num_recommendations=5, alpha=0.5):\n",
        "    if input_song_name not in music_df['Track Name'].values:\n",
        "        print(f\"'{input_song_name}' not found in the dataset. Please enter a valid song name.\")\n",
        "        return\n",
        "\n",
        "    # Get content-based recommendations\n",
        "    content_based_rec = content_based_recommendations(input_song_name, num_recommendations)\n",
        "\n",
        "    # Get the popularity score of the input song\n",
        "    popularity_score = music_df.loc[music_df['Track Name'] == input_song_name, 'Popularity'].values[0]\n",
        "\n",
        "    # Calculate the weighted popularity score\n",
        "    weighted_popularity_score = popularity_score * calculate_weighted_popularity(music_df.loc[music_df['Track Name'] == input_song_name, 'Release Date'].values[0])\n",
        "\n",
        "    # Create a DataFrame with the input song data\n",
        "    input_song_data = pd.DataFrame({\n",
        "        'Track Name': [input_song_name],\n",
        "        'Artists': [music_df.loc[music_df['Track Name'] == input_song_name, 'Artists'].values[0]],\n",
        "        'Album Name': [music_df.loc[music_df['Track Name'] == input_song_name, 'Album Name'].values[0]],\n",
        "        'Release Date': [music_df.loc[music_df['Track Name'] == input_song_name, 'Release Date'].values[0]],\n",
        "        'Popularity': [weighted_popularity_score]\n",
        "    })\n",
        "\n",
        "    # Concatenate content-based recommendations with the input song data\n",
        "    hybrid_recommendations = pd.concat([content_based_rec, input_song_data], ignore_index=True)\n",
        "\n",
        "    # Sort the hybrid recommendations based on weighted popularity score\n",
        "    hybrid_recommendations = hybrid_recommendations.sort_values(by='Popularity', ascending=False)\n",
        "\n",
        "    # Remove the input song from the recommendations\n",
        "    hybrid_recommendations = hybrid_recommendations[hybrid_recommendations['Track Name'] != input_song_name]\n",
        "\n",
        "    return hybrid_recommendations\n"
      ],
      "metadata": {
        "id": "zyOy3UPwnKoC"
      },
      "execution_count": 34,
      "outputs": []
    },
    {
      "cell_type": "code",
      "source": [
        "input_song_name = \"Valaiyosai\"\n",
        "recommendations = hybrid_recommendations(input_song_name, num_recommendations=5)\n",
        "print(f\"Hybrid recommended songs for '{input_song_name}':\")\n",
        "print(recommendations)"
      ],
      "metadata": {
        "colab": {
          "base_uri": "https://localhost:8080/"
        },
        "id": "3raxDeLhnTbf",
        "outputId": "7ce5e16a-fd7c-46ed-c43c-d743f1826b0a"
      },
      "execution_count": 36,
      "outputs": [
        {
          "output_type": "stream",
          "name": "stdout",
          "text": [
            "Hybrid recommended songs for 'Valaiyosai':\n",
            "                 Track Name  \\\n",
            "0             Unna Nenachen   \n",
            "3  Thenmadurai Vaigai Nadhi   \n",
            "4                Indha Maan   \n",
            "1         Ithu Oru Ponmalai   \n",
            "2     Un Nenja Thottu Sollu   \n",
            "\n",
            "                                             Artists  \\\n",
            "0                             S. P. Balasubrahmanyam   \n",
            "3  S. P. Balasubrahmanyam, P. Susheela, Malaysia ...   \n",
            "4                         Ilaiyaraaja, K. S. Chithra   \n",
            "1                             S. P. Balasubrahmanyam   \n",
            "2                         P. Susheela, K. S. Chithra   \n",
            "\n",
            "                                          Album Name Release Date  Popularity  \n",
            "0  Apoorva Sagodharargal (Original Motion Picture...   1989-04-14        50.0  \n",
            "3  Dharmathin Thalaivan (Original Motion Picture ...         1988        50.0  \n",
            "4  Karakattakkaran (Original Motion Picture Sound...   1989-06-16        48.0  \n",
            "1                                          Nizhalgal   2005-06-30        45.0  \n",
            "2  Rajathi Raja (Original Motion Picture Soundtrack)   1989-03-04        43.0  \n"
          ]
        }
      ]
    },
    {
      "cell_type": "code",
      "source": [],
      "metadata": {
        "id": "hbdggcM1nYqj"
      },
      "execution_count": null,
      "outputs": []
    }
  ]
}